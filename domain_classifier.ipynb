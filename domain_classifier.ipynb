{
  "nbformat": 4,
  "nbformat_minor": 0,
  "metadata": {
    "colab": {
      "provenance": []
    },
    "kernelspec": {
      "name": "python3",
      "display_name": "Python 3"
    },
    "language_info": {
      "name": "python"
    }
  },
  "cells": [
    {
      "cell_type": "markdown",
      "source": [
        "# **`Domain classification` task**"
      ],
      "metadata": {
        "id": "Y1HzRtGo2Afr"
      }
    },
    {
      "cell_type": "code",
      "execution_count": 84,
      "metadata": {
        "id": "HgGGUO1W642c"
      },
      "outputs": [],
      "source": [
        "import pandas as pd"
      ]
    },
    {
      "cell_type": "code",
      "source": [
        "benign = pd.read_csv('CSV_benign.csv')\n",
        "malware = pd.read_csv('CSV_malware.csv')"
      ],
      "metadata": {
        "id": "kuuDniez8syu"
      },
      "execution_count": 85,
      "outputs": []
    },
    {
      "cell_type": "markdown",
      "source": [
        "# Labeling"
      ],
      "metadata": {
        "id": "vYzC2NWyAKHe"
      }
    },
    {
      "cell_type": "code",
      "source": [
        "y_benign = pd.DataFrame([0] * len(benign))\n",
        "y_malware = pd.DataFrame([1] * len(malware))"
      ],
      "metadata": {
        "id": "BwpBWv9O8tAA"
      },
      "execution_count": 86,
      "outputs": []
    },
    {
      "cell_type": "markdown",
      "source": [
        "# **Preprocessing**\n",
        "\n",
        "# DataFrames concatanation"
      ],
      "metadata": {
        "id": "MxEFoQMGE05u"
      }
    },
    {
      "cell_type": "code",
      "source": [
        "X = pd.concat([benign, malware])\n",
        "y = pd.concat([y_benign, y_malware])"
      ],
      "metadata": {
        "id": "7oshSa8op_8I"
      },
      "execution_count": 87,
      "outputs": []
    },
    {
      "cell_type": "code",
      "source": [
        "y = y.unstack() # reshaping for training"
      ],
      "metadata": {
        "id": "OU4L4LdfwOuc"
      },
      "execution_count": 88,
      "outputs": []
    },
    {
      "cell_type": "markdown",
      "source": [
        "# Category columns encoding"
      ],
      "metadata": {
        "id": "fxVMfjDq4Mml"
      }
    },
    {
      "cell_type": "code",
      "source": [
        "cat_cols = X.select_dtypes(include=['object']).columns\n",
        "cat_cols = cat_cols.union(['ASN']) # there are NaN values"
      ],
      "metadata": {
        "id": "g0OYqtqpF9BU"
      },
      "execution_count": 89,
      "outputs": []
    },
    {
      "cell_type": "code",
      "source": [
        "from sklearn.preprocessing import LabelEncoder"
      ],
      "metadata": {
        "id": "CR2HbzKTJ-v2"
      },
      "execution_count": 90,
      "outputs": []
    },
    {
      "cell_type": "code",
      "source": [
        "enc = LabelEncoder()\n",
        "\n",
        "for col in cat_cols:\n",
        "    X[col] = X[col].astype('str')\n",
        "    X[col] = enc.fit_transform(X[col])"
      ],
      "metadata": {
        "id": "4dC94tdNJrkD"
      },
      "execution_count": 91,
      "outputs": []
    },
    {
      "cell_type": "markdown",
      "source": [
        "# Features examination"
      ],
      "metadata": {
        "id": "KhUnwmMK4TYe"
      }
    },
    {
      "cell_type": "code",
      "source": [
        "X.hex_8.unique()"
      ],
      "metadata": {
        "colab": {
          "base_uri": "https://localhost:8080/"
        },
        "id": "ntYxs_lKUzzI",
        "outputId": "426642d6-0280-4ed6-bd54-a543daa5aef1"
      },
      "execution_count": 92,
      "outputs": [
        {
          "output_type": "execute_result",
          "data": {
            "text/plain": [
              "array([0])"
            ]
          },
          "metadata": {},
          "execution_count": 92
        }
      ]
    },
    {
      "cell_type": "code",
      "source": [
        "X.hex_32.unique()"
      ],
      "metadata": {
        "colab": {
          "base_uri": "https://localhost:8080/"
        },
        "id": "0qEKby0v_U_j",
        "outputId": "9269f91c-8184-4aeb-ca5f-1d9e585543a4"
      },
      "execution_count": 93,
      "outputs": [
        {
          "output_type": "execute_result",
          "data": {
            "text/plain": [
              "array([0])"
            ]
          },
          "metadata": {},
          "execution_count": 93
        }
      ]
    },
    {
      "cell_type": "markdown",
      "source": [
        "- `hex_32` and `hex_8` variables always take value 0, so they brings nothing to the ML model. I delete them."
      ],
      "metadata": {
        "id": "BuAM6B7J6DUF"
      }
    },
    {
      "cell_type": "code",
      "source": [
        "print('Number of rows with 0 value: ', X.dec_8.value_counts()[0])\n",
        "print('Number of all df rows: ', len(X))"
      ],
      "metadata": {
        "colab": {
          "base_uri": "https://localhost:8080/"
        },
        "id": "nSIFdlUSqumc",
        "outputId": "a9b9655d-7b39-41c5-dc52-19f694d2db5b"
      },
      "execution_count": 94,
      "outputs": [
        {
          "output_type": "stream",
          "name": "stdout",
          "text": [
            "Number of rows with 0 value:  9515\n",
            "Number of all df rows:  9516\n"
          ]
        }
      ]
    },
    {
      "cell_type": "markdown",
      "source": [
        "- In the one of rows of dec_8 variable there is NaN value. But because in all others (9515) there is 0 value, I assume in NaN value there also should be 0 value. Therefore `dec_8` variable brings nothing. I delete it."
      ],
      "metadata": {
        "id": "bstYKWd-rIgr"
      }
    },
    {
      "cell_type": "code",
      "source": [
        "print('Number of rows with -1 value: ', X.Page_Rank.value_counts()[-1])\n",
        "print('Number of all rows: ', len(X))"
      ],
      "metadata": {
        "colab": {
          "base_uri": "https://localhost:8080/"
        },
        "id": "40b_tn6PrslP",
        "outputId": "444ae177-8e04-4055-885d-da6441e143e0"
      },
      "execution_count": 95,
      "outputs": [
        {
          "output_type": "stream",
          "name": "stdout",
          "text": [
            "Number of rows with -1 value:  7847\n",
            "Number of all rows:  9516\n"
          ]
        }
      ]
    },
    {
      "cell_type": "markdown",
      "source": [
        "\n",
        "- `Page_Rank` takes -1 or NaN values, but by definition it should take values from 0 to 10. I delete it."
      ],
      "metadata": {
        "id": "ujGXK23NU8Pz"
      }
    },
    {
      "cell_type": "code",
      "source": [
        "X = X.drop(columns=['hex_32', 'hex_8', 'dec_8', 'Page_Rank'])"
      ],
      "metadata": {
        "id": "Nw5wgaAvVFuB"
      },
      "execution_count": 96,
      "outputs": []
    },
    {
      "cell_type": "markdown",
      "source": [
        "# Correlation"
      ],
      "metadata": {
        "id": "qlzuqM0vpM9P"
      }
    },
    {
      "cell_type": "code",
      "source": [
        "c = X.corr().abs()\n",
        "s = c.unstack()\n",
        "so = s.sort_values(kind=\"quicksort\")\n",
        "so = so[range(0, len(so), 2)] # pairs are duplicated: a-b, b-a\n",
        "\n",
        "limit = 0.9\n",
        "# so[(so > limit) & (so < 1)]\n",
        "so[so > limit]"
      ],
      "metadata": {
        "colab": {
          "base_uri": "https://localhost:8080/"
        },
        "id": "HlgMdWMmX6Dm",
        "outputId": "790dfa8b-8478-45d7-9b01-0c26127589f5"
      },
      "execution_count": 97,
      "outputs": [
        {
          "output_type": "execute_result",
          "data": {
            "text/plain": [
              "obfuscate_at_sign  oc_32                0.928980\n",
              "sld                3gram                0.966398\n",
              "1gram              3gram                0.966846\n",
              "oc_8               puny_coded           0.969673\n",
              "3gram              2gram                0.971159\n",
              "2gram              sld                  0.995152\n",
              "                   1gram                0.995514\n",
              "1gram              sld                  0.998560\n",
              "Country            Country              1.000000\n",
              "ASN                ASN                  1.000000\n",
              "IP                 IP                   1.000000\n",
              "State              State                1.000000\n",
              "Country.1          Country.1            1.000000\n",
              "Domain_Name        Domain_Name          1.000000\n",
              "subdomain          subdomain            1.000000\n",
              "len                len                  1.000000\n",
              "sld                sld                  1.000000\n",
              "1gram              1gram                1.000000\n",
              "entropy            entropy              1.000000\n",
              "tld                tld                  1.000000\n",
              "Emails             Emails               1.000000\n",
              "puny_coded         puny_coded           1.000000\n",
              "oc_8               oc_8                 1.000000\n",
              "char_distribution  char_distribution    1.000000\n",
              "shortened          shortened            1.000000\n",
              "dtype: float64"
            ]
          },
          "metadata": {},
          "execution_count": 97
        }
      ]
    },
    {
      "cell_type": "markdown",
      "source": [
        "- Due to high correlation, I remove `1gram` and `2gram` variables.\n",
        "- oc_8 and puny_coded take the same values - correlation is 1. Therefore I delete `oc_8`."
      ],
      "metadata": {
        "id": "FQT2GfZMbq_h"
      }
    },
    {
      "cell_type": "markdown",
      "source": [
        "## `obfuscate_at_sign` vs `oc_32`"
      ],
      "metadata": {
        "id": "jQdaefdalCct"
      }
    },
    {
      "cell_type": "code",
      "source": [
        "s.obfuscate_at_sign.mean()"
      ],
      "metadata": {
        "colab": {
          "base_uri": "https://localhost:8080/"
        },
        "id": "tJ6MQVKJcz4D",
        "outputId": "c95ce01f-0096-4a83-9852-c0a22ba5b9bd"
      },
      "execution_count": 98,
      "outputs": [
        {
          "output_type": "execute_result",
          "data": {
            "text/plain": [
              "0.14639527744786207"
            ]
          },
          "metadata": {},
          "execution_count": 98
        }
      ]
    },
    {
      "cell_type": "code",
      "source": [
        "so.oc_32.mean()"
      ],
      "metadata": {
        "colab": {
          "base_uri": "https://localhost:8080/"
        },
        "id": "WsersrLxc5Ty",
        "outputId": "1e00aca0-3b95-4b8a-ef5b-ca77c92a953a"
      },
      "execution_count": 99,
      "outputs": [
        {
          "output_type": "execute_result",
          "data": {
            "text/plain": [
              "0.02313056565659272"
            ]
          },
          "metadata": {},
          "execution_count": 99
        }
      ]
    },
    {
      "cell_type": "markdown",
      "source": [
        "- `obfuscate_at_sign` has bigger mean correlation, that is why I delete it."
      ],
      "metadata": {
        "id": "U3R5hOwTkbFW"
      }
    },
    {
      "cell_type": "markdown",
      "source": [
        "# `sld` vs `3gram`"
      ],
      "metadata": {
        "id": "ys5VZ6QEt_WV"
      }
    },
    {
      "cell_type": "code",
      "source": [
        "s.sld.mean()"
      ],
      "metadata": {
        "colab": {
          "base_uri": "https://localhost:8080/"
        },
        "id": "c2O0Hu5MuBMA",
        "outputId": "f033a2e4-4935-4675-fbc5-b2208d17e4a0"
      },
      "execution_count": 100,
      "outputs": [
        {
          "output_type": "execute_result",
          "data": {
            "text/plain": [
              "0.19271171161712358"
            ]
          },
          "metadata": {},
          "execution_count": 100
        }
      ]
    },
    {
      "cell_type": "code",
      "source": [
        "s['3gram'].mean()"
      ],
      "metadata": {
        "colab": {
          "base_uri": "https://localhost:8080/"
        },
        "id": "LlrwNOeLuCFN",
        "outputId": "746475f2-f18b-419b-92b1-73a733958de9"
      },
      "execution_count": 101,
      "outputs": [
        {
          "output_type": "execute_result",
          "data": {
            "text/plain": [
              "0.18960881483480155"
            ]
          },
          "metadata": {},
          "execution_count": 101
        }
      ]
    },
    {
      "cell_type": "markdown",
      "source": [
        "- `sld` has bigger mean correlation, that is why I delete it."
      ],
      "metadata": {
        "id": "sWFi1DktuKWH"
      }
    },
    {
      "cell_type": "code",
      "source": [
        "X = X.drop(columns=['obfuscate_at_sign', '1gram', '2gram', 'oc_8', 'sld'])"
      ],
      "metadata": {
        "id": "KAQse-aiki7o"
      },
      "execution_count": 102,
      "outputs": []
    },
    {
      "cell_type": "markdown",
      "source": [
        "# NaN handling"
      ],
      "metadata": {
        "id": "_k4MbaH6tFZj"
      }
    },
    {
      "cell_type": "code",
      "source": [
        "X.isna().sum()"
      ],
      "metadata": {
        "colab": {
          "base_uri": "https://localhost:8080/"
        },
        "id": "OYBPWeFqs56z",
        "outputId": "abec971f-1c83-4785-ae55-e6e94080ebde"
      },
      "execution_count": 103,
      "outputs": [
        {
          "output_type": "execute_result",
          "data": {
            "text/plain": [
              "Country                  0\n",
              "ASN                      0\n",
              "TTL                      0\n",
              "IP                       0\n",
              "Domain                   0\n",
              "State                    0\n",
              "Registrant_Name          0\n",
              "Country.1                0\n",
              "Creation_Date_Time       0\n",
              "Domain_Name              0\n",
              "Alexa_Rank            1662\n",
              "subdomain                0\n",
              "Organization             0\n",
              "len                      0\n",
              "longest_word             0\n",
              "oc_32                    0\n",
              "shortened                0\n",
              "entropy                  0\n",
              "Domain_Age               0\n",
              "tld                      0\n",
              "dec_32                   0\n",
              "Emails                   0\n",
              "numeric_percentage       1\n",
              "puny_coded               0\n",
              "typos                    0\n",
              "3gram                    0\n",
              "char_distribution        0\n",
              "Registrar                0\n",
              "Name_Server_Count     1666\n",
              "dtype: int64"
            ]
          },
          "metadata": {},
          "execution_count": 103
        }
      ]
    },
    {
      "cell_type": "markdown",
      "source": [
        "- `Alexa_Rank` is the popularity metric, so I replace NaN with the mean of all others values.\n",
        "- With `Name_Server_Count` and `numeric_percentage` I can do the same (there are numeric values)."
      ],
      "metadata": {
        "id": "N09k2duTtavg"
      }
    },
    {
      "cell_type": "code",
      "source": [
        "X.Alexa_Rank = X.Alexa_Rank.fillna(X.Alexa_Rank.mean())\n",
        "X.Name_Server_Count = X.Name_Server_Count.fillna(X.Name_Server_Count.mean())\n",
        "X.numeric_percentage = X.numeric_percentage.fillna(X.numeric_percentage.mean())"
      ],
      "metadata": {
        "id": "3wXav5a6tJsT"
      },
      "execution_count": 104,
      "outputs": []
    },
    {
      "cell_type": "markdown",
      "source": [
        "# Dataset splitting"
      ],
      "metadata": {
        "id": "aKKxceJOA58k"
      }
    },
    {
      "cell_type": "code",
      "source": [
        "from sklearn.model_selection import train_test_split\n",
        "\n",
        "X_train, X_test, y_train, y_test = train_test_split(X, y, test_size=0.2, random_state=0)"
      ],
      "metadata": {
        "id": "XKljhXr48tHb"
      },
      "execution_count": 105,
      "outputs": []
    },
    {
      "cell_type": "markdown",
      "source": [
        "# Models\n",
        "\n",
        "I train a few popular models with default parameters to compare them on this task dataset."
      ],
      "metadata": {
        "id": "chNrWlPtDxnH"
      }
    },
    {
      "cell_type": "code",
      "source": [
        "models = {}\n",
        "\n",
        "# Logistic Regression\n",
        "from sklearn.linear_model import LogisticRegression\n",
        "models['Logistic Regression'] = LogisticRegression()\n",
        "\n",
        "# Support Vector Machines\n",
        "from sklearn.svm import LinearSVC\n",
        "models['Support Vector Machines'] = LinearSVC()\n",
        "\n",
        "# Decision Trees\n",
        "from sklearn.tree import DecisionTreeClassifier\n",
        "models['Decision Trees'] = DecisionTreeClassifier()\n",
        "\n",
        "# Random Forest\n",
        "from sklearn.ensemble import RandomForestClassifier\n",
        "models['Random Forest'] = RandomForestClassifier()\n",
        "\n",
        "# Naive Bayes\n",
        "from sklearn.naive_bayes import GaussianNB\n",
        "models['Naive Bayes'] = GaussianNB()\n",
        "\n",
        "# K-Nearest Neighbors\n",
        "from sklearn.neighbors import KNeighborsClassifier\n",
        "models['K-Nearest Neighbor'] = KNeighborsClassifier()"
      ],
      "metadata": {
        "id": "cKD0xiPx8tCT"
      },
      "execution_count": 106,
      "outputs": []
    },
    {
      "cell_type": "markdown",
      "source": [
        "# Training and prediction\n",
        "\n",
        "I choose a few popular metrics to compare models. Dataset is quite balanced."
      ],
      "metadata": {
        "id": "8wMPHdyLxynw"
      }
    },
    {
      "cell_type": "code",
      "source": [
        "import warnings\n",
        "warnings.filterwarnings(\"ignore\")"
      ],
      "metadata": {
        "id": "612A_aeczWtl"
      },
      "execution_count": 107,
      "outputs": []
    },
    {
      "cell_type": "code",
      "source": [
        "from sklearn.metrics import accuracy_score, precision_score, recall_score\n",
        "\n",
        "accuracy, precision, recall = {}, {}, {}\n",
        "\n",
        "for key in models.keys():\n",
        "\n",
        "    # Fit the classifier\n",
        "    models[key].fit(X_train, y_train)\n",
        "\n",
        "    # Make predictions\n",
        "    predictions = models[key].predict(X_test)\n",
        "\n",
        "    # Calculate metrics\n",
        "    accuracy[key] = accuracy_score(predictions, y_test)\n",
        "    precision[key] = precision_score(predictions, y_test)\n",
        "    recall[key] = recall_score(predictions, y_test)\n"
      ],
      "metadata": {
        "id": "ogxVvNEU8tLv"
      },
      "execution_count": 108,
      "outputs": []
    },
    {
      "cell_type": "code",
      "source": [
        "df_model = pd.DataFrame(index=models.keys(), columns=['Accuracy', 'Precision', 'Recall'])\n",
        "df_model['Accuracy'] = accuracy.values()\n",
        "df_model['Precision'] = precision.values()\n",
        "df_model['Recall'] = recall.values()\n",
        "\n",
        "df_model"
      ],
      "metadata": {
        "colab": {
          "base_uri": "https://localhost:8080/",
          "height": 238
        },
        "id": "xSk3GO6y8tPO",
        "outputId": "298af571-6dd4-4b5f-8c8c-2693f52727bb"
      },
      "execution_count": 109,
      "outputs": [
        {
          "output_type": "execute_result",
          "data": {
            "text/plain": [
              "                         Accuracy  Precision    Recall\n",
              "Logistic Regression      0.668067   0.696663  0.674829\n",
              "Support Vector Machines  0.743172   0.769464  0.744618\n",
              "Decision Trees           0.972689   0.965622  0.981501\n",
              "Random Forest            0.981092   0.974722  0.988718\n",
              "Naive Bayes              0.784139   0.676441  0.880263\n",
              "K-Nearest Neighbor       0.912290   0.908999  0.921107"
            ],
            "text/html": [
              "\n",
              "  <div id=\"df-244cb8ba-3d8c-4b6c-8935-54759a28ce9b\" class=\"colab-df-container\">\n",
              "    <div>\n",
              "<style scoped>\n",
              "    .dataframe tbody tr th:only-of-type {\n",
              "        vertical-align: middle;\n",
              "    }\n",
              "\n",
              "    .dataframe tbody tr th {\n",
              "        vertical-align: top;\n",
              "    }\n",
              "\n",
              "    .dataframe thead th {\n",
              "        text-align: right;\n",
              "    }\n",
              "</style>\n",
              "<table border=\"1\" class=\"dataframe\">\n",
              "  <thead>\n",
              "    <tr style=\"text-align: right;\">\n",
              "      <th></th>\n",
              "      <th>Accuracy</th>\n",
              "      <th>Precision</th>\n",
              "      <th>Recall</th>\n",
              "    </tr>\n",
              "  </thead>\n",
              "  <tbody>\n",
              "    <tr>\n",
              "      <th>Logistic Regression</th>\n",
              "      <td>0.668067</td>\n",
              "      <td>0.696663</td>\n",
              "      <td>0.674829</td>\n",
              "    </tr>\n",
              "    <tr>\n",
              "      <th>Support Vector Machines</th>\n",
              "      <td>0.743172</td>\n",
              "      <td>0.769464</td>\n",
              "      <td>0.744618</td>\n",
              "    </tr>\n",
              "    <tr>\n",
              "      <th>Decision Trees</th>\n",
              "      <td>0.972689</td>\n",
              "      <td>0.965622</td>\n",
              "      <td>0.981501</td>\n",
              "    </tr>\n",
              "    <tr>\n",
              "      <th>Random Forest</th>\n",
              "      <td>0.981092</td>\n",
              "      <td>0.974722</td>\n",
              "      <td>0.988718</td>\n",
              "    </tr>\n",
              "    <tr>\n",
              "      <th>Naive Bayes</th>\n",
              "      <td>0.784139</td>\n",
              "      <td>0.676441</td>\n",
              "      <td>0.880263</td>\n",
              "    </tr>\n",
              "    <tr>\n",
              "      <th>K-Nearest Neighbor</th>\n",
              "      <td>0.912290</td>\n",
              "      <td>0.908999</td>\n",
              "      <td>0.921107</td>\n",
              "    </tr>\n",
              "  </tbody>\n",
              "</table>\n",
              "</div>\n",
              "    <div class=\"colab-df-buttons\">\n",
              "\n",
              "  <div class=\"colab-df-container\">\n",
              "    <button class=\"colab-df-convert\" onclick=\"convertToInteractive('df-244cb8ba-3d8c-4b6c-8935-54759a28ce9b')\"\n",
              "            title=\"Convert this dataframe to an interactive table.\"\n",
              "            style=\"display:none;\">\n",
              "\n",
              "  <svg xmlns=\"http://www.w3.org/2000/svg\" height=\"24px\" viewBox=\"0 -960 960 960\">\n",
              "    <path d=\"M120-120v-720h720v720H120Zm60-500h600v-160H180v160Zm220 220h160v-160H400v160Zm0 220h160v-160H400v160ZM180-400h160v-160H180v160Zm440 0h160v-160H620v160ZM180-180h160v-160H180v160Zm440 0h160v-160H620v160Z\"/>\n",
              "  </svg>\n",
              "    </button>\n",
              "\n",
              "  <style>\n",
              "    .colab-df-container {\n",
              "      display:flex;\n",
              "      gap: 12px;\n",
              "    }\n",
              "\n",
              "    .colab-df-convert {\n",
              "      background-color: #E8F0FE;\n",
              "      border: none;\n",
              "      border-radius: 50%;\n",
              "      cursor: pointer;\n",
              "      display: none;\n",
              "      fill: #1967D2;\n",
              "      height: 32px;\n",
              "      padding: 0 0 0 0;\n",
              "      width: 32px;\n",
              "    }\n",
              "\n",
              "    .colab-df-convert:hover {\n",
              "      background-color: #E2EBFA;\n",
              "      box-shadow: 0px 1px 2px rgba(60, 64, 67, 0.3), 0px 1px 3px 1px rgba(60, 64, 67, 0.15);\n",
              "      fill: #174EA6;\n",
              "    }\n",
              "\n",
              "    .colab-df-buttons div {\n",
              "      margin-bottom: 4px;\n",
              "    }\n",
              "\n",
              "    [theme=dark] .colab-df-convert {\n",
              "      background-color: #3B4455;\n",
              "      fill: #D2E3FC;\n",
              "    }\n",
              "\n",
              "    [theme=dark] .colab-df-convert:hover {\n",
              "      background-color: #434B5C;\n",
              "      box-shadow: 0px 1px 3px 1px rgba(0, 0, 0, 0.15);\n",
              "      filter: drop-shadow(0px 1px 2px rgba(0, 0, 0, 0.3));\n",
              "      fill: #FFFFFF;\n",
              "    }\n",
              "  </style>\n",
              "\n",
              "    <script>\n",
              "      const buttonEl =\n",
              "        document.querySelector('#df-244cb8ba-3d8c-4b6c-8935-54759a28ce9b button.colab-df-convert');\n",
              "      buttonEl.style.display =\n",
              "        google.colab.kernel.accessAllowed ? 'block' : 'none';\n",
              "\n",
              "      async function convertToInteractive(key) {\n",
              "        const element = document.querySelector('#df-244cb8ba-3d8c-4b6c-8935-54759a28ce9b');\n",
              "        const dataTable =\n",
              "          await google.colab.kernel.invokeFunction('convertToInteractive',\n",
              "                                                    [key], {});\n",
              "        if (!dataTable) return;\n",
              "\n",
              "        const docLinkHtml = 'Like what you see? Visit the ' +\n",
              "          '<a target=\"_blank\" href=https://colab.research.google.com/notebooks/data_table.ipynb>data table notebook</a>'\n",
              "          + ' to learn more about interactive tables.';\n",
              "        element.innerHTML = '';\n",
              "        dataTable['output_type'] = 'display_data';\n",
              "        await google.colab.output.renderOutput(dataTable, element);\n",
              "        const docLink = document.createElement('div');\n",
              "        docLink.innerHTML = docLinkHtml;\n",
              "        element.appendChild(docLink);\n",
              "      }\n",
              "    </script>\n",
              "  </div>\n",
              "\n",
              "\n",
              "<div id=\"df-82c42be7-c678-4b90-b728-6b80ad8412e1\">\n",
              "  <button class=\"colab-df-quickchart\" onclick=\"quickchart('df-82c42be7-c678-4b90-b728-6b80ad8412e1')\"\n",
              "            title=\"Suggest charts.\"\n",
              "            style=\"display:none;\">\n",
              "\n",
              "<svg xmlns=\"http://www.w3.org/2000/svg\" height=\"24px\"viewBox=\"0 0 24 24\"\n",
              "     width=\"24px\">\n",
              "    <g>\n",
              "        <path d=\"M19 3H5c-1.1 0-2 .9-2 2v14c0 1.1.9 2 2 2h14c1.1 0 2-.9 2-2V5c0-1.1-.9-2-2-2zM9 17H7v-7h2v7zm4 0h-2V7h2v10zm4 0h-2v-4h2v4z\"/>\n",
              "    </g>\n",
              "</svg>\n",
              "  </button>\n",
              "\n",
              "<style>\n",
              "  .colab-df-quickchart {\n",
              "      --bg-color: #E8F0FE;\n",
              "      --fill-color: #1967D2;\n",
              "      --hover-bg-color: #E2EBFA;\n",
              "      --hover-fill-color: #174EA6;\n",
              "      --disabled-fill-color: #AAA;\n",
              "      --disabled-bg-color: #DDD;\n",
              "  }\n",
              "\n",
              "  [theme=dark] .colab-df-quickchart {\n",
              "      --bg-color: #3B4455;\n",
              "      --fill-color: #D2E3FC;\n",
              "      --hover-bg-color: #434B5C;\n",
              "      --hover-fill-color: #FFFFFF;\n",
              "      --disabled-bg-color: #3B4455;\n",
              "      --disabled-fill-color: #666;\n",
              "  }\n",
              "\n",
              "  .colab-df-quickchart {\n",
              "    background-color: var(--bg-color);\n",
              "    border: none;\n",
              "    border-radius: 50%;\n",
              "    cursor: pointer;\n",
              "    display: none;\n",
              "    fill: var(--fill-color);\n",
              "    height: 32px;\n",
              "    padding: 0;\n",
              "    width: 32px;\n",
              "  }\n",
              "\n",
              "  .colab-df-quickchart:hover {\n",
              "    background-color: var(--hover-bg-color);\n",
              "    box-shadow: 0 1px 2px rgba(60, 64, 67, 0.3), 0 1px 3px 1px rgba(60, 64, 67, 0.15);\n",
              "    fill: var(--button-hover-fill-color);\n",
              "  }\n",
              "\n",
              "  .colab-df-quickchart-complete:disabled,\n",
              "  .colab-df-quickchart-complete:disabled:hover {\n",
              "    background-color: var(--disabled-bg-color);\n",
              "    fill: var(--disabled-fill-color);\n",
              "    box-shadow: none;\n",
              "  }\n",
              "\n",
              "  .colab-df-spinner {\n",
              "    border: 2px solid var(--fill-color);\n",
              "    border-color: transparent;\n",
              "    border-bottom-color: var(--fill-color);\n",
              "    animation:\n",
              "      spin 1s steps(1) infinite;\n",
              "  }\n",
              "\n",
              "  @keyframes spin {\n",
              "    0% {\n",
              "      border-color: transparent;\n",
              "      border-bottom-color: var(--fill-color);\n",
              "      border-left-color: var(--fill-color);\n",
              "    }\n",
              "    20% {\n",
              "      border-color: transparent;\n",
              "      border-left-color: var(--fill-color);\n",
              "      border-top-color: var(--fill-color);\n",
              "    }\n",
              "    30% {\n",
              "      border-color: transparent;\n",
              "      border-left-color: var(--fill-color);\n",
              "      border-top-color: var(--fill-color);\n",
              "      border-right-color: var(--fill-color);\n",
              "    }\n",
              "    40% {\n",
              "      border-color: transparent;\n",
              "      border-right-color: var(--fill-color);\n",
              "      border-top-color: var(--fill-color);\n",
              "    }\n",
              "    60% {\n",
              "      border-color: transparent;\n",
              "      border-right-color: var(--fill-color);\n",
              "    }\n",
              "    80% {\n",
              "      border-color: transparent;\n",
              "      border-right-color: var(--fill-color);\n",
              "      border-bottom-color: var(--fill-color);\n",
              "    }\n",
              "    90% {\n",
              "      border-color: transparent;\n",
              "      border-bottom-color: var(--fill-color);\n",
              "    }\n",
              "  }\n",
              "</style>\n",
              "\n",
              "  <script>\n",
              "    async function quickchart(key) {\n",
              "      const quickchartButtonEl =\n",
              "        document.querySelector('#' + key + ' button');\n",
              "      quickchartButtonEl.disabled = true;  // To prevent multiple clicks.\n",
              "      quickchartButtonEl.classList.add('colab-df-spinner');\n",
              "      try {\n",
              "        const charts = await google.colab.kernel.invokeFunction(\n",
              "            'suggestCharts', [key], {});\n",
              "      } catch (error) {\n",
              "        console.error('Error during call to suggestCharts:', error);\n",
              "      }\n",
              "      quickchartButtonEl.classList.remove('colab-df-spinner');\n",
              "      quickchartButtonEl.classList.add('colab-df-quickchart-complete');\n",
              "    }\n",
              "    (() => {\n",
              "      let quickchartButtonEl =\n",
              "        document.querySelector('#df-82c42be7-c678-4b90-b728-6b80ad8412e1 button');\n",
              "      quickchartButtonEl.style.display =\n",
              "        google.colab.kernel.accessAllowed ? 'block' : 'none';\n",
              "    })();\n",
              "  </script>\n",
              "</div>\n",
              "    </div>\n",
              "  </div>\n"
            ]
          },
          "metadata": {},
          "execution_count": 109
        }
      ]
    },
    {
      "cell_type": "code",
      "source": [
        "ax = df_model.plot.barh()\n",
        "ax.legend(\n",
        "    ncol=len(models.keys()),\n",
        "    bbox_to_anchor=(0, 1),\n",
        "    loc='lower left',\n",
        "    prop={'size': 14}\n",
        ")"
      ],
      "metadata": {
        "colab": {
          "base_uri": "https://localhost:8080/",
          "height": 492
        },
        "id": "fr7Dp5NfxNiu",
        "outputId": "649ea4d9-457e-46ef-cd74-471ef509d455"
      },
      "execution_count": 110,
      "outputs": [
        {
          "output_type": "execute_result",
          "data": {
            "text/plain": [
              "<matplotlib.legend.Legend at 0x78c708fb0070>"
            ]
          },
          "metadata": {},
          "execution_count": 110
        },
        {
          "output_type": "display_data",
          "data": {
            "text/plain": [
              "<Figure size 640x480 with 1 Axes>"
            ],
            "image/png": "[encoded data removed]"
          },
          "metadata": {}
        }
      ]
    },
    {
      "cell_type": "markdown",
      "source": [
        "`Random Forest` and `Decision Tree` achieve the best results (with default hyperparameters). Of course hyperparameters could be optimize to achieve better results but that is the another task.\n",
        "\n",
        "**Trees are the best!** (my Engineering Work: https://github.com/ModelOriented/forester)"
      ],
      "metadata": {
        "id": "HPJZiqqFx7wm"
      }
    }
  ]
}